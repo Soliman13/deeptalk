{
 "cells": [
  {
   "cell_type": "code",
   "execution_count": 3,
   "metadata": {},
   "outputs": [],
   "source": [
    "import os\n",
    "from transformers import AutoTokenizer, AutoModelForQuestionAnswering\n",
    "import tensorflow as tf\n",
    "import torch\n"
   ]
  },
  {
   "cell_type": "code",
   "execution_count": 4,
   "metadata": {},
   "outputs": [
    {
     "name": "stdout",
     "output_type": "stream",
     "text": [
      "aaa\n",
      "\n"
     ]
    }
   ],
   "source": [
    "tokenizer = AutoTokenizer.from_pretrained(\"henryk/bert-base-multilingual-cased-finetuned-dutch-squad1\")\n",
    "model = AutoModelForQuestionAnswering.from_pretrained(\"henryk/bert-base-multilingual-cased-finetuned-dutch-squad1\")\n",
    "# ktrapeznikov/albert-xlarge-v2-squad-v2\n",
    "# la meilleur jusqu'à present est : henryk/bert-base-multilingual-cased-finetuned-dutch-squad1\n",
    "\n",
    "question = \"sur quel projet travail adnane ?\"\n",
    "text = \"\"\"Adnane est un étudiant en informatique, il a 22 ans, son nom est rachidi alaoui,\n",
    "il travail avec Ali sur un projet de machine learning qui s'appel Deep Talk\"\"\"\n",
    "\n",
    "input_dict = tokenizer.encode_plus(question, text, return_tensors=\"pt\")\n",
    "input_ids = input_dict[\"input_ids\"].tolist()\n",
    "start_scores, end_scores = model(**input_dict)\n",
    "\n",
    "all_tokens = tokenizer.convert_ids_to_tokens(input_ids[0])\n",
    "answer = ' '.join(all_tokens[torch.argmax(start_scores) : torch.argmax(end_scores)+1]).replace('▁', '')\n",
    "print(answer)"
   ]
  },
  {
   "cell_type": "code",
   "execution_count": null,
   "metadata": {},
   "outputs": [],
   "source": []
  },
  {
   "cell_type": "code",
   "execution_count": null,
   "metadata": {},
   "outputs": [],
   "source": []
  }
 ],
 "metadata": {
  "kernelspec": {
   "display_name": "Python 3",
   "language": "python",
   "name": "python3"
  },
  "language_info": {
   "codemirror_mode": {
    "name": "ipython",
    "version": 3
   },
   "file_extension": ".py",
   "mimetype": "text/x-python",
   "name": "python",
   "nbconvert_exporter": "python",
   "pygments_lexer": "ipython3",
   "version": "3.7.4"
  }
 },
 "nbformat": 4,
 "nbformat_minor": 4
}
