{
 "cells": [
  {
   "cell_type": "code",
   "execution_count": 1,
   "metadata": {},
   "outputs": [],
   "source": [
    "import os\n",
    "from transformers import AutoTokenizer, AutoModelForQuestionAnswering\n",
    "import tensorflow as tf\n",
    "import torch\n",
    "import re"
   ]
  },
  {
   "cell_type": "code",
   "execution_count": 2,
   "metadata": {},
   "outputs": [],
   "source": [
    "'''\n",
    "Author : Oualid Benazzouz\n",
    "Instructions pour l'utilisation de ce script python :\n",
    "# Install transformers :  \n",
    " pip install transformers\n",
    " \n",
    "# Install Tensorflow version > 2.0 :\n",
    " pip install --upgrade tensorflow \n",
    "\n",
    "# Install Pytorch :\n",
    " cette installation ne marche pas avec pip, il faut utiliser conda :\n",
    " Conda install Torch\n",
    "\n",
    "Ce script python est un système de question réponse, il est tester sur deux langues : francais et anglais.\n",
    "le site utilisé pour tester le système est : https://www.pragnakalp.com/demos/BERT-NLP-QnA-Demo/\n",
    "'''\n",
    "\n",
    "def generateAnswer(text,question):\n",
    "    tokenizer = AutoTokenizer.from_pretrained(\"henryk/bert-base-multilingual-cased-finetuned-dutch-squad1\")\n",
    "    model = AutoModelForQuestionAnswering.from_pretrained(\"henryk/bert-base-multilingual-cased-finetuned-dutch-squad1\")\n",
    "    input_dict = tokenizer.encode_plus(question, text, return_tensors=\"pt\")\n",
    "    input_ids = input_dict[\"input_ids\"].tolist()\n",
    "    start_scores, end_scores = model(**input_dict)\n",
    "\n",
    "    all_tokens = tokenizer.convert_ids_to_tokens(input_ids[0])\n",
    "    answer = ' '.join(all_tokens[torch.argmax(start_scores) : torch.argmax(end_scores)+1]).replace('▁', '')\n",
    "    final_answer =  re.sub(r\" ##\",\"\",answer)\n",
    "    return final_answer\n",
    "    "
   ]
  },
  {
   "cell_type": "code",
   "execution_count": 3,
   "metadata": {},
   "outputs": [],
   "source": [
    "question = \"sur quel projet travaille Oualid?\"\n",
    "text = \"\"\"Oualid est un étudiant en informatique, il a 24 ans, il a choisit de faire le parcours de MBDS en master 2,\n",
    "Oualid travaille sur un projet qui s'appel Deep Talk,  il est dans une équipe de 5 étudiants.\"\"\""
   ]
  },
  {
   "cell_type": "code",
   "execution_count": 4,
   "metadata": {
    "scrolled": true
   },
   "outputs": [
    {
     "name": "stdout",
     "output_type": "stream",
     "text": [
      "Deep Talk\n"
     ]
    }
   ],
   "source": [
    "print(generateAnswer(text,question))"
   ]
  },
  {
   "cell_type": "code",
   "execution_count": 5,
   "metadata": {},
   "outputs": [],
   "source": [
    "text_test_french = '''Google LLC est une entreprise américaine de services technologiques fondée en 1998 dans la Silicon Valley, en Californie, par Larry Page et Sergey Brin, créateurs du moteur de recherche Google.\n",
    "\n",
    "C'est une filiale de la société Alphabet depuis août 2015.\n",
    "\n",
    "L'entreprise s'est principalement fait connaître à travers la situation monopolistique de son moteur de recherche, concurrencé historiquement par AltaVista puis par Yahoo! et Bing. Elle a ensuite procédé à de nombreuses acquisitions et développements et détient aujourd'hui de nombreux logiciels et sites web notables parmi lesquels YouTube, le système d'exploitation pour téléphones mobiles Android, ainsi que d'autres services tels que Gmail, Google Earth, Google Maps ou Google Play.\n",
    "\n",
    "Google s'est donné comme mission « d'organiser l'information à l'échelle mondiale et de la rendre universellement accessible et utile ». Après Larry Page et Eric Schmidt, son DG est, depuis 2015, Pichai Sundararajan.'''"
   ]
  },
  {
   "cell_type": "code",
   "execution_count": 6,
   "metadata": {},
   "outputs": [],
   "source": [
    "question1 = \"Qui est le PDG actuel?\"\n",
    "question2 = \"Quelle est la mission de google?\"\n",
    "question3 = \"Depuis quand Google est-il une filiale d'Alphabet?\"\n",
    "question4 = \"Qu'est-ce que Google est connu pour?\"\n",
    "question5 = \"Quels services offrent Google?\""
   ]
  },
  {
   "cell_type": "code",
   "execution_count": 7,
   "metadata": {},
   "outputs": [
    {
     "name": "stdout",
     "output_type": "stream",
     "text": [
      "la réponse de question 1 est : Pichai Sundararajan\n",
      "--------------------------------\n",
      "la réponse de question 2 est : d ' organiser l ' information à l ' échelle mondiale et de la rendre universellement accessible et utile\n",
      "--------------------------------\n",
      "la réponse de question 3 est : août 2015\n",
      "--------------------------------\n",
      "la réponse de question 4 est : la situation monopolistique de son moteur de recherche\n",
      "--------------------------------\n",
      "la réponse de question 5 est : Gmail , Google Earth , Google Maps ou Google Play\n"
     ]
    }
   ],
   "source": [
    "print(\"la réponse de question 1 est : \"+ generateAnswer(text_test_french,question1))\n",
    "print(\"--------------------------------\")\n",
    "print(\"la réponse de question 2 est : \"+ generateAnswer(text_test_french,question2))\n",
    "print(\"--------------------------------\")\n",
    "print(\"la réponse de question 3 est : \"+ generateAnswer(text_test_french,question3))\n",
    "print(\"--------------------------------\")\n",
    "print(\"la réponse de question 4 est : \"+ generateAnswer(text_test_french,question4))\n",
    "print(\"--------------------------------\")\n",
    "print(\"la réponse de question 5 est : \"+ generateAnswer(text_test_french,question5))"
   ]
  },
  {
   "cell_type": "code",
   "execution_count": 8,
   "metadata": {},
   "outputs": [],
   "source": [
    "text_test_english = '''Google was founded in 1998 by Larry Page and Sergey Brin while they were Ph.D. students at Stanford University in California.\n",
    "Together they own about 14 percent of its shares and control 56 percent of the stockholder voting power through supervoting stock.\n",
    "They incorporated Google as a privately held company on September 4, 1998.\n",
    "An initial public offering (IPO) took place on August 19, 2004, and Google moved to its headquarters in Mountain View, California, nicknamed the Googleplex.\n",
    "In August 2015, Google announced plans to reorganize its various interests as a conglomerate called Alphabet Inc.\n",
    "Google is Alphabet's leading subsidiary and will continue to be the umbrella company for Alphabet's Internet interests.\n",
    "Sundar Pichai was appointed CEO of Google, replacing Larry Page who became the CEO of Alphabet.'''"
   ]
  },
  {
   "cell_type": "code",
   "execution_count": 9,
   "metadata": {},
   "outputs": [],
   "source": [
    "question1_eng = \"Who is current CEO?\"\n",
    "question2_eng = \"What is IPO?\"\n",
    "question3_eng = \"Who founded google?\"\n",
    "question4_eng = \"where is headquarter of Google?\"\n",
    "question5_eng = \"when did IPO take place?\""
   ]
  },
  {
   "cell_type": "code",
   "execution_count": null,
   "metadata": {},
   "outputs": [
    {
     "name": "stdout",
     "output_type": "stream",
     "text": [
      "The answer of question 1 is : Sundar Pichai\n",
      "--------------------------------\n",
      "The answer of question 2 is : Googleplex\n",
      "--------------------------------\n",
      "The answer of question 3 is : Larry Page and Sergey Brin\n",
      "--------------------------------\n",
      "The answer of question 4 is : Mountain View , California\n",
      "--------------------------------\n"
     ]
    }
   ],
   "source": [
    "print(\"The answer of question 1 is : \"+ generateAnswer(text_test_english,question1_eng))\n",
    "print(\"--------------------------------\")\n",
    "print(\"The answer of question 2 is : \"+ generateAnswer(text_test_english,question2_eng))\n",
    "print(\"--------------------------------\")\n",
    "print(\"The answer of question 3 is : \"+ generateAnswer(text_test_english,question3_eng))\n",
    "print(\"--------------------------------\")\n",
    "print(\"The answer of question 4 is : \"+ generateAnswer(text_test_english,question4_eng))\n",
    "print(\"--------------------------------\")\n",
    "print(\"The answer of question 5 is : \"+ generateAnswer(text_test_english,question5_eng))"
   ]
  }
 ],
 "metadata": {
  "kernelspec": {
   "display_name": "Python 3",
   "language": "python",
   "name": "python3"
  },
  "language_info": {
   "codemirror_mode": {
    "name": "ipython",
    "version": 3
   },
   "file_extension": ".py",
   "mimetype": "text/x-python",
   "name": "python",
   "nbconvert_exporter": "python",
   "pygments_lexer": "ipython3",
   "version": "3.7.4"
  }
 },
 "nbformat": 4,
 "nbformat_minor": 2
}
